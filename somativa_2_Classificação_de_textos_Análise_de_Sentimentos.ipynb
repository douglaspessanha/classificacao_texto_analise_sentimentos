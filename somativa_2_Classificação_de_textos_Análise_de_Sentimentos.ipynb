{
 "cells": [
  {
   "cell_type": "markdown",
   "metadata": {},
   "source": [
    "# Atividade Somativa 2\n",
    "## Disciplina de Processamento de Linguagem Natural\n",
    "### Alunos : Douglas Branco Pessanha Lopes e Leandro de Almeida Rodrigues"
   ]
  },
  {
   "cell_type": "markdown",
   "metadata": {
    "id": "jd0xl83ec2Qq"
   },
   "source": [
    "# Classificação de textos - Análise de Sentimentos\n",
    "## Processamento de Linguagem Natural\n",
    "Nesta aula continuaremos trabalhando com Classificação de textos, porém agora focaremos em uma tarefa específica, chamada de **Análise de Sentimentos**. \n",
    "\n",
    "O objetivo é que ao final desta aula você:\n",
    "1. Entenda o que é a **Análise de Sentimentos**\n",
    "2. Saiba treinar um classificador supervisionado para realizar análise de sentimentos usando um corpus anotado\n",
    "3. Aprenda a utilizar a biblioteca Polyglot do Python que já possui métodos para identificar polaridade de textos em português\n",
    "4. Acesse API do Twitter para obter dados em tempo real de redes sociais\n",
    "\n",
    "\n"
   ]
  },
  {
   "cell_type": "markdown",
   "metadata": {
    "id": "YsjLryLKfG_O"
   },
   "source": [
    "### **O que é a Análise de Sentimentos?**\n",
    "\n",
    "É a interpretação e classificação de emoções relativas a um texto, sendo estas emoções explícitas declaradas no texto ou implícitas.\n",
    "\n",
    "![Análise de sentimentos. Fonte: https://monkeylearn.com/sentiment-analysis/](https://docs.google.com/uc?export=download&id=1okG1oHXPhnZiBBTtpZG4b3VdaWovCndT)\n",
    "\n",
    "É uma tarefa de PLN/Machine Learning que permite empresas identificarem os sentimentos dos consumidores em relação a produtos, marcas ou serviços, através de opiniões deixadas em redes sociais ou em canais de comunicação da empresa.\n",
    "\n",
    "\n",
    "\n",
    "\n",
    "\n",
    "\n",
    "\n",
    "\n",
    "\n",
    "\n",
    "\n",
    "\n",
    "\n",
    "\n",
    "\n",
    "\n"
   ]
  },
  {
   "cell_type": "markdown",
   "metadata": {
    "id": "evmz97QofQ_f"
   },
   "source": [
    "### **Como treinar um classificador para realizar a Análise de Sentimentos?**\n",
    "Iremos desenvolver nosso classificador, utilizando uma abordagem supervisionada, ou seja, precisaremos de dados rotulados com suas respectivas emoções.\n",
    "\n",
    "O pipeline de execução é muito similar aos exemplos de classificação realizados na última semana, o que muda efetivamente são as classes/categorias envolvidas."
   ]
  },
  {
   "cell_type": "markdown",
   "metadata": {
    "id": "Pm6WttgJUVVk"
   },
   "source": [
    "#### Dados\n",
    "Para este exemplo iremos trabalhar com uma [base de dados de notícias](https://www.aclweb.org/anthology/W15-5616.pdf), rotulada com as emoções básicas de [Ekman](https://www.tandfonline.com/doi/abs/10.1080/02699939208411068): **alegria**, **tristeza**, **raiva**, **medo**, **repugnância** e **surpresa**. Em caso de ausência de emoção, a categoria **neutro** foi aplicada.\n",
    "\n",
    "\n",
    "\n",
    "> **IMPORTANTE**: Faça o upload da base de dados para seu ambiente Google Colab ou Jupyter Notebook! Segue o [link](https://drive.google.com/file/d/12-mbbvHtnDVRTbQnhmOfnIXppbQ0hoyn/view?usp=sharing) para acesso.\n",
    "\n"
   ]
  },
  {
   "cell_type": "markdown",
   "metadata": {
    "id": "ltdhOVMyY9PW"
   },
   "source": [
    "#### Fluxo de execução\n",
    "Vamos seguir o seguinte fluxo de processamento dos dados:\n",
    "\n",
    "\n",
    "1.   Abrir o corpus\n",
    "2.   Remover as stop-words\n",
    "3.   Aplicar stemmer\n",
    "4.   Gerar o Bag of Words\n",
    "5.   Treinar o modelo SVM\n",
    "6.   Predizer/Avaliar o modelo\n",
    "\n"
   ]
  },
  {
   "cell_type": "code",
   "execution_count": 43,
   "metadata": {
    "colab": {
     "base_uri": "https://localhost:8080/",
     "height": 238
    },
    "id": "MtuY_lI4SufL",
    "outputId": "c4e229be-5a30-4552-e99d-341aae2f198c"
   },
   "outputs": [],
   "source": [
    "# Abre corpus\n",
    "f = open(\"/home/douglas/onedrive/PUC_disciplinas/processamento_linguagem_natural/atividade_somativa_2/analise-sentimentos-2000-noticias.txt\", \"r\", encoding=\"utf-8-sig\")\n",
    "linhas = f.readlines()\n",
    "\n",
    "corpus_textos = []\n",
    "corpus_rotulos = []\n",
    "\n",
    "# Percorre as 2000 linhas\n",
    "for linha in linhas:\n",
    "\n",
    "  # Separa texto e rótulo/categoria/emoção\n",
    "  item = linha.split(\";;\")\n",
    "\n",
    "  corpus_rotulos.append(item[0])\n",
    "  corpus_textos.append(item[1])"
   ]
  },
  {
   "cell_type": "code",
   "execution_count": 44,
   "metadata": {
    "colab": {
     "base_uri": "https://localhost:8080/"
    },
    "id": "AeR6Rr1wV1oG",
    "outputId": "2c1dd79d-2ef7-4bb3-cbf2-6f2a58dcd0a7"
   },
   "outputs": [
    {
     "data": {
      "text/plain": [
       "['irã liberta viúva condenada ao apedrejamento, diz comitê internacional. a viúva iraniana sakineh mohammadi-ashtiani, condenada à morte por apedrejamento, foi libertada juntamente com o seu filho e o seu advogado, anunciou nesta quinta-feira (9) o comitê internacional contra apedrejamento, sediado na alemanha.\\n',\n",
       " 'haiti sofre com cólera depois da passagem do furacão sandy. após a passagem do furacão sandy pelo haiti, o país vive as dificuldades da reconstrução, além de problemas causados pela contaminação da bactéria que causa o cólera.\\n',\n",
       " 'mulher acorda e encontra crocodilo de 3 m e 27 ovos no jardim de casa. especialistas capturaram e transferiram animal para local adequado.\\n',\n",
       " 'enchentes causam a morte de 4 pessoas em al: vítimas são mãe, filho, idosa de 100 anos e adolescente. defesa civil da capital já registrou mais de 30 ocorrências.\\n',\n",
       " 'sem detalhes do que será discutido, revisão do plano diretor começa na segunda (17). dez oficinas, 19 audiências públicas e canal interativo serão os meios de participação popular; ippuc pretende enviar plano revisado à câmara até o início de dezembro\\n']"
      ]
     },
     "execution_count": 44,
     "metadata": {},
     "output_type": "execute_result"
    }
   ],
   "source": [
    "# 5 primeiros textos\n",
    "corpus_textos[0:5]"
   ]
  },
  {
   "cell_type": "code",
   "execution_count": 45,
   "metadata": {
    "colab": {
     "base_uri": "https://localhost:8080/"
    },
    "id": "SAXpsd00V2vq",
    "outputId": "ffb8d75f-f5e2-44ec-c62d-3394643a9421"
   },
   "outputs": [
    {
     "data": {
      "text/plain": [
       "['alegria', 'tristeza', 'surpresa', 'tristeza', 'neutro']"
      ]
     },
     "execution_count": 45,
     "metadata": {},
     "output_type": "execute_result"
    }
   ],
   "source": [
    "# 5 primeiros rótulos\n",
    "corpus_rotulos[0:5]"
   ]
  },
  {
   "cell_type": "markdown",
   "metadata": {
    "id": "0YkBFj5KSumX"
   },
   "source": [
    "Em nossos exemplos de classificação anteriores, separamos parte do banco de dados para **TREINAMENTO** e outra parte para **TESTE**, nesse tipo de avaliação que chamamos de **hold-out**.\n",
    "\n",
    "Existem outras formas de realizar a avaliação, inclusive mais indicadas de acordo com a situação, mas isto não está no escopo de nossa disciplina, caso queira saber mais métodos de avaliação como o **cross-validation**, leia [este post](https://medium.com/@eijaz/holdout-vs-cross-validation-in-machine-learning-7637112d3f8f)."
   ]
  },
  {
   "cell_type": "code",
   "execution_count": 46,
   "metadata": {
    "id": "xMh3t4S-k5iN"
   },
   "outputs": [],
   "source": [
    "from sklearn.model_selection import train_test_split\n",
    "\n",
    "# O próprio sklearn tem um método para dividir a base de dados em treinamento e teste\n",
    "# Neste caso estamos deixando 90% para treinamento e 10% para testes\n",
    "corpus_treinamento, corpus_teste, rotulos_treinamento, rotulos_teste = train_test_split(corpus_textos, corpus_rotulos, test_size=0.10, random_state=42)"
   ]
  },
  {
   "cell_type": "code",
   "execution_count": 47,
   "metadata": {
    "colab": {
     "base_uri": "https://localhost:8080/"
    },
    "id": "DlOXBwE9l1DQ",
    "outputId": "6426cd99-ac57-49f3-ff50-1d8ec697763e"
   },
   "outputs": [
    {
     "data": {
      "text/plain": [
       "1800"
      ]
     },
     "execution_count": 47,
     "metadata": {},
     "output_type": "execute_result"
    }
   ],
   "source": [
    "len(corpus_treinamento)"
   ]
  },
  {
   "cell_type": "code",
   "execution_count": 48,
   "metadata": {
    "colab": {
     "base_uri": "https://localhost:8080/"
    },
    "id": "PNkXDsCzl3CK",
    "outputId": "0d5912e0-08bd-4977-f9f0-32981408d693"
   },
   "outputs": [
    {
     "data": {
      "text/plain": [
       "200"
      ]
     },
     "execution_count": 48,
     "metadata": {},
     "output_type": "execute_result"
    }
   ],
   "source": [
    "len(corpus_teste)"
   ]
  },
  {
   "cell_type": "code",
   "execution_count": 49,
   "metadata": {
    "colab": {
     "base_uri": "https://localhost:8080/"
    },
    "id": "0k8IhkJhl3F8",
    "outputId": "bfeccb0a-3cdf-4009-cb52-d50878e1bb6e"
   },
   "outputs": [
    {
     "data": {
      "text/plain": [
       "1800"
      ]
     },
     "execution_count": 49,
     "metadata": {},
     "output_type": "execute_result"
    }
   ],
   "source": [
    "len(rotulos_treinamento)"
   ]
  },
  {
   "cell_type": "code",
   "execution_count": 50,
   "metadata": {
    "colab": {
     "base_uri": "https://localhost:8080/"
    },
    "id": "Z5jSA7_Ql3Jo",
    "outputId": "bc7648ef-472b-4eec-c01d-7b9a2702dc4c"
   },
   "outputs": [
    {
     "data": {
      "text/plain": [
       "200"
      ]
     },
     "execution_count": 50,
     "metadata": {},
     "output_type": "execute_result"
    }
   ],
   "source": [
    "len(rotulos_teste)"
   ]
  },
  {
   "cell_type": "markdown",
   "metadata": {
    "id": "AbSXzp5fvFk3"
   },
   "source": [
    "Vamos deixar preparada uma função para pré-processar os textos, utilizando uma lista de stop-words com novos itens, o stemming e normalização dos textos."
   ]
  },
  {
   "cell_type": "code",
   "execution_count": 51,
   "metadata": {
    "colab": {
     "base_uri": "https://localhost:8080/"
    },
    "id": "A5CAMkykvRUk",
    "outputId": "707983e1-c8f3-4203-9490-64168e790ec7"
   },
   "outputs": [
    {
     "name": "stderr",
     "output_type": "stream",
     "text": [
      "[nltk_data] Downloading package stopwords to\n",
      "[nltk_data]     /home/douglas/nltk_data...\n",
      "[nltk_data]   Package stopwords is already up-to-date!\n",
      "[nltk_data] Downloading package rslp to /home/douglas/nltk_data...\n",
      "[nltk_data]   Package rslp is already up-to-date!\n",
      "[nltk_data] Downloading package punkt to /home/douglas/nltk_data...\n",
      "[nltk_data]   Package punkt is already up-to-date!\n"
     ]
    }
   ],
   "source": [
    "import nltk\n",
    "from nltk import tokenize\n",
    "nltk.download('stopwords')\n",
    "nltk.download('rslp')\n",
    "nltk.download('punkt')\n",
    "\n",
    "stopwords = nltk.corpus.stopwords.words('portuguese') #carrega stopwords da lingua portuguesa disponíveis no NLTK\n",
    "stopwords += (',','.','(',')','\"',\"'\",'´','`','!','$','%','&','...','-',':',';','?','``','\\'\\'') #acrescenta simbolos\n",
    "stopwords += ('a','e','i','o','u','A','E','I','O','U') #acrescenta também vogais\n",
    "\n",
    "stemmer = nltk.stem.RSLPStemmer()\n",
    "\n",
    "def my_preprocessor(text):\n",
    "    \n",
    "    # Normaliza para minúsculas\n",
    "    text=text.lower() \n",
    "    \n",
    "    # Tokeniza\n",
    "    words = tokenize.word_tokenize(text, language='portuguese')\n",
    "    # Remove stop-words\n",
    "    words_no_stopwords = [word for word in words if not word in stopwords]\n",
    "    # Aplica stemming\n",
    "    stemmed_words=[stemmer.stem(word=word) for word in words_no_stopwords]\n",
    "    return ' '.join(stemmed_words)"
   ]
  },
  {
   "cell_type": "markdown",
   "metadata": {
    "id": "6HnBLMGtmxNm"
   },
   "source": [
    "Agora vamos extrair os atributos do texto (gerar a representação vetorial - bag of words) e criar nosso pipeline de classificação usando o classificador SVM."
   ]
  },
  {
   "cell_type": "code",
   "execution_count": 52,
   "metadata": {
    "id": "20ZDBuVTmxbU"
   },
   "outputs": [],
   "source": [
    "from sklearn.pipeline import Pipeline\n",
    "from sklearn.svm import SVC\n",
    "from sklearn.feature_extraction.text import CountVectorizer\n",
    "\n",
    "# Primeiro aplica o BoW, depois envia dados ao classificador SVM\n",
    "# (SEM retirada de stop-words e stemming)\n",
    "#sent_clf = Pipeline([('vect', CountVectorizer()),('clf', SVC(kernel='linear', C=1))])\n",
    "\n",
    "# Depois de executar uma vez, verifique os resultados e compare-os depois de descomentar a linha abaixo, onde retiramos as stop-words e aplicamos stemming\n",
    "# (COM retirada de stop-words e stemming)\n",
    "sent_clf = Pipeline([('vect', CountVectorizer(preprocessor = my_preprocessor)),('clf', SVC(kernel='linear', C=1))])"
   ]
  },
  {
   "cell_type": "code",
   "execution_count": 53,
   "metadata": {
    "id": "OcUiVr1exebT"
   },
   "outputs": [],
   "source": [
    "# Inicia treinamento \n",
    "sent_clf = sent_clf.fit(corpus_treinamento, rotulos_treinamento)"
   ]
  },
  {
   "cell_type": "markdown",
   "metadata": {
    "id": "UJ6nzypDoHTX"
   },
   "source": [
    "Já temos nosso modelo treinado! Agora vamos predizer a base de teste e avaliar os resultados."
   ]
  },
  {
   "cell_type": "code",
   "execution_count": 54,
   "metadata": {
    "id": "dNSFAIiYoHdD"
   },
   "outputs": [],
   "source": [
    "# Prediz base de teste\n",
    "rotulos_preditos = sent_clf.predict(corpus_teste)"
   ]
  },
  {
   "cell_type": "code",
   "execution_count": 55,
   "metadata": {
    "colab": {
     "base_uri": "https://localhost:8080/"
    },
    "id": "6FxFWGaBoZ_w",
    "outputId": "6023d916-1bbb-4a6c-d23c-eeeadad8af86"
   },
   "outputs": [
    {
     "name": "stdout",
     "output_type": "stream",
     "text": [
      "              precision    recall  f1-score   support\n",
      "\n",
      "     alegria       0.18      0.16      0.17        19\n",
      "    desgosto       0.57      0.48      0.52        27\n",
      "        medo       0.36      0.44      0.40        18\n",
      "      neutro       0.63      0.75      0.68        51\n",
      "       raiva       0.33      0.29      0.31         7\n",
      "    surpresa       0.48      0.47      0.48        32\n",
      "    tristeza       0.73      0.65      0.69        46\n",
      "\n",
      "    accuracy                           0.55       200\n",
      "   macro avg       0.47      0.46      0.46       200\n",
      "weighted avg       0.54      0.55      0.54       200\n",
      "\n"
     ]
    }
   ],
   "source": [
    "from sklearn.metrics import classification_report\n",
    "\n",
    "# Mostra relatório completo de avaliação\n",
    "print(classification_report(rotulos_teste, rotulos_preditos))"
   ]
  },
  {
   "cell_type": "code",
   "execution_count": 56,
   "metadata": {
    "colab": {
     "base_uri": "https://localhost:8080/",
     "height": 611
    },
    "id": "qRQDI8b9oaFe",
    "outputId": "b2deaad5-c2a1-4258-bbd6-53a07d5d4c38"
   },
   "outputs": [
    {
     "data": {
      "image/png": "[encoded data removed]",
      "text/plain": [
       "<Figure size 720x720 with 1 Axes>"
      ]
     },
     "metadata": {},
     "output_type": "display_data"
    }
   ],
   "source": [
    "from sklearn.metrics import confusion_matrix\n",
    "\n",
    "# Podemos imprimir a matriz de confusão para tentar entender melhor os resultados\n",
    "mat = confusion_matrix(rotulos_teste, rotulos_preditos)\n",
    "\n",
    "%matplotlib inline\n",
    "import matplotlib.pyplot as plt\n",
    "import seaborn as sns; sns.set()\n",
    "\n",
    "rotulos_nomes = ['alegria', 'desgosto', 'medo', 'neutro', 'raiva', 'surpresa', 'tristeza']\n",
    "\n",
    "fig, ax = plt.subplots(figsize=(10,10)) \n",
    "sns.heatmap(mat.T, square=True, annot=True, fmt='d', cbar=False, xticklabels=rotulos_nomes, yticklabels=rotulos_nomes )\n",
    "plt.xlabel('Categoria verdadeira')\n",
    "plt.ylabel('Categoria predita');"
   ]
  },
  {
   "cell_type": "markdown",
   "metadata": {
    "id": "VJGxMMVTz6lJ"
   },
   "source": [
    "> **CONCLUSÃO**: Apesar de verificarmos melhoria ao pré-processarmos o texto, os resultados ainda são regulares."
   ]
  },
  {
   "cell_type": "markdown",
   "metadata": {
    "id": "hdC8Pnkc1JsW"
   },
   "source": [
    "#### **Atividade Somativa 2 - Como podemos tentar melhorar os resultados?**\n",
    "\n",
    "**1) Redução da granularidade dos sentimentos**\n",
    "Como podemos ver na matriz de confusão o classificador tem vários pontos de erro, em todas emoções. E se modificarmos o corpus para ao invés de 7 emoções, trabalhar com as 3 clássicas (positivo, neutro, negativo)?\n",
    "\n",
    "Vamos então adotar a seguinte sistemática de atualização da base de dados:\n",
    "\n",
    "A classe \"**positivo**\" será obtida utilizando-se as instâncias da base original rotuladas como \"alegria\". \n",
    "\n",
    "A classe \"**negativo**\" será obtida utilizando-se as instâncias rotuladas como \"raiva\", \"medo\", \"desgosto\" e \"tristeza\". \n",
    "\n",
    "Já a classe \"**neutro**\", utilizará as instâncias da base original rotuladas como \"neutro\". \n",
    "\n",
    "As instâncias rotuladas como \"surpresa\" não serão utilizadas.\n",
    "\n",
    "Crie um novo arquivo para esta base de dados atualizada, carregue-o em nosso notebook e compare os resultados.\n",
    "\n",
    "**2) Configuração dos parâmetros de extração de atributos e do classificador**\n",
    "Altere a configuração de pelo menos um atributo gerado pela vetorização das palavras (i.e., CountVectorizer) e também pelo classificador utilizado.\n",
    "\n",
    "**3) Adicione novas etapas de extração de atributos ou de pré-processamento**\n",
    "Incorpore ao menos uma nova etapa de pré-processamento ou extração de atributos (e.g., TF-IDF) ao pipeline atual.\n",
    "\n",
    "**4) Utilize outro classificador de texto**\n",
    "Treine ao menos um novo modelo utilizando um classificador de textos diferentes. Ele pode pertencer à biblbioteca sklearn ou qualquer outra.\n",
    "\n"
   ]
  },
  {
   "cell_type": "markdown",
   "metadata": {
    "id": "dRk7ES50JJca"
   },
   "source": [
    "### **Existe alguma ferramenta pronta que realize análise de sentimentos?**\n",
    "Não é sempre que teremos um corpus anotado para utilizar em nossas tarefas, neste caso, existem bibliotecas que incorporam funcionalidades simples que podem ser usadas para detectar a polaridade de textos (negativo, positivo).\n",
    "\n",
    "No caso da língua portuguesa, a [Polyglot](https://polyglot.readthedocs.io/en/latest/index.html) tem um léxico de polaridade das palavras, que pode ser usado para detecção simples de sentimentos."
   ]
  },
  {
   "cell_type": "markdown",
   "metadata": {},
   "source": [
    "## Atividade Somativa 2"
   ]
  },
  {
   "cell_type": "markdown",
   "metadata": {},
   "source": [
    "### 1) Redução da granularidade dos sentimentos"
   ]
  },
  {
   "cell_type": "code",
   "execution_count": 57,
   "metadata": {},
   "outputs": [],
   "source": [
    "# Abre corpus\n",
    "f = open(\"/home/douglas/onedrive/PUC_disciplinas/processamento_linguagem_natural/atividade_somativa_2/analise-sentimentos-2000-noticias.txt\", \"r\", encoding=\"utf-8-sig\")\n",
    "linhas2 = f.readlines()\n",
    "\n",
    "corpus_textos2 = []\n",
    "corpus_rotulos2 = []\n",
    "\n",
    "# Percorre as 2000 linhas\n",
    "for linha in linhas2:\n",
    "\n",
    "  # Separa texto e rótulo/categoria/emoção e elimina as linhas em que o emoção supresa \n",
    "    item = linha.split(\";;\")\n",
    "    if item[0] != \"surpresa\":\n",
    "        corpus_rotulos2.append(item[0])\n",
    "        corpus_textos2.append(item[1])"
   ]
  },
  {
   "cell_type": "markdown",
   "metadata": {},
   "source": [
    "Abaixo pode se verificar que foi diminuído o tamanho das duas listas, poís as linhas em que havia a palavra surpresa não existem mais"
   ]
  },
  {
   "cell_type": "code",
   "execution_count": 58,
   "metadata": {},
   "outputs": [
    {
     "data": {
      "text/plain": [
       "1748"
      ]
     },
     "execution_count": 58,
     "metadata": {},
     "output_type": "execute_result"
    }
   ],
   "source": [
    "len(corpus_rotulos2)"
   ]
  },
  {
   "cell_type": "code",
   "execution_count": 59,
   "metadata": {},
   "outputs": [
    {
     "data": {
      "text/plain": [
       "1748"
      ]
     },
     "execution_count": 59,
     "metadata": {},
     "output_type": "execute_result"
    }
   ],
   "source": [
    "len(corpus_textos2)"
   ]
  },
  {
   "cell_type": "markdown",
   "metadata": {},
   "source": [
    "O rótulo \"alegria\" foi substituído por \"positivo\" enquanto \"tristeza\", \"medo\" e \"desgosto\" por \"negativo\"."
   ]
  },
  {
   "cell_type": "code",
   "execution_count": 60,
   "metadata": {},
   "outputs": [],
   "source": [
    "corpus_rotulos2 = [item.replace('alegria', 'positivo') for item in corpus_rotulos2]\n",
    "corpus_rotulos2 = [item.replace(\"tristeza\", 'negativo').replace(\"medo\", \"negativo\").replace(\"desgosto\", \"negativo\").replace(\"raiva\", \"negativo\") for item in corpus_rotulos2]"
   ]
  },
  {
   "cell_type": "markdown",
   "metadata": {},
   "source": [
    "### 2) Configuração dos parâmetros de extração de atributos e do classificador Altere a configuração de pelo menos um atributo gerado pela vetorização das palavras (i.e., CountVectorizer) e também pelo classificador utilizado."
   ]
  },
  {
   "cell_type": "code",
   "execution_count": 61,
   "metadata": {},
   "outputs": [],
   "source": [
    "\n",
    "# Estamos deixando 90% para treinamento e 10% para testes\n",
    "corpus_treinamento2, corpus_teste2, rotulos_treinamento2, rotulos_teste2 = train_test_split(corpus_textos2, corpus_rotulos2, test_size=0.10, random_state=42)"
   ]
  },
  {
   "cell_type": "code",
   "execution_count": 62,
   "metadata": {},
   "outputs": [],
   "source": [
    "#pré-processamento dos texto retirando stopwords símbolos, símbolos e vogais \n",
    "stopwords = nltk.corpus.stopwords.words('portuguese') #carrega stopwords da lingua portuguesa disponíveis no NLTK\n",
    "stopwords += (',','.','(',')','\"',\"'\",'´','`','!','$','%','&','...','-',':',';','?','``','\\'\\'') #acrescenta simbolos\n",
    "stopwords += ('a','e','i','o','u','A','E','I','O','U') #acrescenta também vogais\n",
    "\n",
    "stemmer = nltk.stem.RSLPStemmer()\n",
    "\n",
    "def my_preprocessor(text):\n",
    "    \n",
    "    # Normaliza para minúsculas\n",
    "    text=text.lower() \n",
    "    \n",
    "    # Tokeniza\n",
    "    words = tokenize.word_tokenize(text, language='portuguese')\n",
    "    # Remove stop-words\n",
    "    words_no_stopwords = [word for word in words if not word in stopwords]\n",
    "    # Aplica stemming\n",
    "    stemmed_words=[stemmer.stem(word=word) for word in words_no_stopwords]\n",
    "    return ' '.join(stemmed_words)"
   ]
  },
  {
   "cell_type": "markdown",
   "metadata": {},
   "source": [
    "Houve alterção nos parâmetros do Count_Vectorizer, onde adotou-se um (min_df = 2). Também houve alteração no SVC, o parâmetro kernel foi alterado para \"sigmoid\"\n",
    "As mudanças causaram melhras nos resultados"
   ]
  },
  {
   "cell_type": "code",
   "execution_count": 63,
   "metadata": {},
   "outputs": [],
   "source": [
    "# Depois de executar uma vez, verifique os resultados e compare-os depois de descomentar a linha abaixo, onde retiramos as stop-words e aplicamos stemming\n",
    "# (COM retirada de stop-words e stemming)\n",
    "sent_clf = Pipeline([('vect', CountVectorizer(preprocessor = my_preprocessor, min_df=2)),('clf', SVC(kernel='sigmoid', C=1))])"
   ]
  },
  {
   "cell_type": "code",
   "execution_count": 64,
   "metadata": {},
   "outputs": [],
   "source": [
    "# Inicia treinamento \n",
    "sent_clf = sent_clf.fit(corpus_treinamento2, rotulos_treinamento2)"
   ]
  },
  {
   "cell_type": "code",
   "execution_count": 65,
   "metadata": {},
   "outputs": [],
   "source": [
    "# Prediz base de teste\n",
    "rotulos_preditos2 = sent_clf.predict(corpus_teste2)"
   ]
  },
  {
   "cell_type": "code",
   "execution_count": 66,
   "metadata": {},
   "outputs": [
    {
     "name": "stdout",
     "output_type": "stream",
     "text": [
      "              precision    recall  f1-score   support\n",
      "\n",
      "    negativo       0.84      0.87      0.86       110\n",
      "      neutro       0.66      0.73      0.69        52\n",
      "    positivo       1.00      0.23      0.38        13\n",
      "\n",
      "    accuracy                           0.78       175\n",
      "   macro avg       0.83      0.61      0.64       175\n",
      "weighted avg       0.80      0.78      0.77       175\n",
      "\n"
     ]
    }
   ],
   "source": [
    "# Mostra relatório completo de avaliação\n",
    "print(classification_report(rotulos_teste2, rotulos_preditos2))"
   ]
  },
  {
   "cell_type": "code",
   "execution_count": 67,
   "metadata": {},
   "outputs": [
    {
     "data": {
      "image/png": "[encoded data removed]",
      "text/plain": [
       "<Figure size 720x720 with 1 Axes>"
      ]
     },
     "metadata": {},
     "output_type": "display_data"
    }
   ],
   "source": [
    "# Podemos imprimir a matriz de confusão para tentar entender melhor os resultados\n",
    "mat2 = confusion_matrix(rotulos_teste2, rotulos_preditos2)\n",
    "rotulos_nomes2 = ['negativo', 'neutro', 'positivo']\n",
    "\n",
    "fig, ax = plt.subplots(figsize=(10,10)) \n",
    "sns.heatmap(mat2.T, square=True, annot=True, fmt='d', cbar=False, xticklabels=rotulos_nomes2, yticklabels=rotulos_nomes2)\n",
    "plt.xlabel('Categoria verdadeira')\n",
    "plt.ylabel('Categoria predita');"
   ]
  },
  {
   "cell_type": "markdown",
   "metadata": {},
   "source": [
    "### 3) Adicione novas etapas de extração de atributos ou de pré-processamento Incorpore ao menos uma nova etapa de pré-processamento ou extração de atributos (e.g., TF-IDF) ao pipeline atual."
   ]
  },
  {
   "cell_type": "code",
   "execution_count": 68,
   "metadata": {},
   "outputs": [],
   "source": [
    "from sklearn.feature_extraction.text import TfidfTransformer\n",
    "#alterando o pipeline para tfidf ao invés de Bag of Words \n",
    "#CountVectorizer pelo tfidf\n",
    "pipelineTfidf = Pipeline([('vect', CountVectorizer()), ('tfidf', TfidfTransformer()), ('clf', SVC(kernel='linear', C=1))])"
   ]
  },
  {
   "cell_type": "code",
   "execution_count": 69,
   "metadata": {},
   "outputs": [
    {
     "data": {
      "text/plain": [
       "Pipeline(steps=[('vect', CountVectorizer()), ('tfidf', TfidfTransformer()),\n",
       "                ('clf', SVC(C=1, kernel='linear'))])"
      ]
     },
     "execution_count": 69,
     "metadata": {},
     "output_type": "execute_result"
    }
   ],
   "source": [
    "vectTfidTransform = pipelineTfidf.fit(corpus_treinamento2,rotulos_treinamento2) #data, target\n",
    "vectTfidTransform"
   ]
  },
  {
   "cell_type": "code",
   "execution_count": 70,
   "metadata": {},
   "outputs": [],
   "source": [
    "rotulos_preditos_treinamento = pipelineTfidf.predict(corpus_treinamento2)"
   ]
  },
  {
   "cell_type": "code",
   "execution_count": 71,
   "metadata": {},
   "outputs": [],
   "source": [
    "from sklearn.metrics import classification_report"
   ]
  },
  {
   "cell_type": "code",
   "execution_count": 72,
   "metadata": {},
   "outputs": [
    {
     "name": "stdout",
     "output_type": "stream",
     "text": [
      "              precision    recall  f1-score   support\n",
      "\n",
      "    negativo       0.97      0.99      0.98       912\n",
      "      neutro       0.95      0.98      0.97       490\n",
      "    positivo       1.00      0.78      0.88       171\n",
      "\n",
      "    accuracy                           0.97      1573\n",
      "   macro avg       0.97      0.92      0.94      1573\n",
      "weighted avg       0.97      0.97      0.96      1573\n",
      "\n"
     ]
    }
   ],
   "source": [
    "print(classification_report(rotulos_treinamento2, rotulos_preditos_treinamento))"
   ]
  },
  {
   "cell_type": "code",
   "execution_count": 73,
   "metadata": {},
   "outputs": [],
   "source": [
    "#Processos envolvendo a o count sem os stop-words\n",
    "pipelineTfidfStopWords = Pipeline([('vect', CountVectorizer(preprocessor = my_preprocessor)), ('tfidf', TfidfTransformer()), ('clf', SVC(kernel='linear', C=1))])\n"
   ]
  },
  {
   "cell_type": "code",
   "execution_count": 74,
   "metadata": {},
   "outputs": [
    {
     "data": {
      "text/plain": [
       "Pipeline(steps=[('vect',\n",
       "                 CountVectorizer(preprocessor=<function my_preprocessor at 0x7fb8dc0eb040>)),\n",
       "                ('tfidf', TfidfTransformer()),\n",
       "                ('clf', SVC(C=1, kernel='linear'))])"
      ]
     },
     "execution_count": 74,
     "metadata": {},
     "output_type": "execute_result"
    }
   ],
   "source": [
    "vectTfidTransformStopWords = pipelineTfidfStopWords.fit(corpus_treinamento2,rotulos_treinamento2)\n",
    "vectTfidTransformStopWords"
   ]
  },
  {
   "cell_type": "code",
   "execution_count": 75,
   "metadata": {},
   "outputs": [],
   "source": [
    "rotulos_preditos_treinamentoStopWords = pipelineTfidfStopWords.predict(corpus_treinamento2)"
   ]
  },
  {
   "cell_type": "code",
   "execution_count": 76,
   "metadata": {},
   "outputs": [
    {
     "name": "stdout",
     "output_type": "stream",
     "text": [
      "              precision    recall  f1-score   support\n",
      "\n",
      "    negativo       0.96      0.98      0.97       912\n",
      "      neutro       0.93      0.96      0.95       490\n",
      "    positivo       1.00      0.74      0.85       171\n",
      "\n",
      "    accuracy                           0.95      1573\n",
      "   macro avg       0.96      0.90      0.92      1573\n",
      "weighted avg       0.95      0.95      0.95      1573\n",
      "\n"
     ]
    }
   ],
   "source": [
    "print(classification_report(rotulos_treinamento2, rotulos_preditos_treinamentoStopWords))"
   ]
  },
  {
   "cell_type": "markdown",
   "metadata": {},
   "source": [
    "A acurácia utilizando o Tfidf sem a retirada dos stop-words foram de 97%\n",
    "Utilizando o StopWords tivemos uma acurácia de 95%, ou seja é melhor utilizarmos sem o StopWords¶"
   ]
  },
  {
   "cell_type": "markdown",
   "metadata": {},
   "source": [
    "### 4) Utilize outro classificador de texto Treine ao menos um novo modelo utilizando um classificador de textos diferentes. Ele pode pertencer à biblbioteca sklearn ou qualquer outra."
   ]
  },
  {
   "cell_type": "code",
   "execution_count": 77,
   "metadata": {},
   "outputs": [],
   "source": [
    "from sklearn.feature_extraction.text import TfidfVectorizer\n",
    "vectTfidf = TfidfVectorizer()"
   ]
  },
  {
   "cell_type": "code",
   "execution_count": 78,
   "metadata": {},
   "outputs": [
    {
     "data": {
      "text/plain": [
       "<1573x9347 sparse matrix of type '<class 'numpy.float64'>'\n",
       "\twith 40827 stored elements in Compressed Sparse Row format>"
      ]
     },
     "execution_count": 78,
     "metadata": {},
     "output_type": "execute_result"
    }
   ],
   "source": [
    "vectTfidfTransform = vectTfidf.fit_transform(corpus_treinamento2)\n",
    "vectTfidfTransform"
   ]
  },
  {
   "cell_type": "code",
   "execution_count": 79,
   "metadata": {},
   "outputs": [
    {
     "data": {
      "text/plain": [
       "(1573, 9347)"
      ]
     },
     "execution_count": 79,
     "metadata": {},
     "output_type": "execute_result"
    }
   ],
   "source": [
    "vectTfidfTransform.shape"
   ]
  },
  {
   "cell_type": "code",
   "execution_count": 80,
   "metadata": {},
   "outputs": [],
   "source": [
    "from sklearn.pipeline import Pipeline\n",
    "from sklearn.naive_bayes import MultinomialNB\n",
    "\n",
    "text_clf = Pipeline([('vect', CountVectorizer()), ('tfidf', TfidfTransformer()), ('clf', MultinomialNB())])\n",
    "\n",
    "text_clf = text_clf.fit(corpus_treinamento2,rotulos_treinamento2) #data, target\n"
   ]
  },
  {
   "cell_type": "code",
   "execution_count": 81,
   "metadata": {},
   "outputs": [],
   "source": [
    "rotulos_preditos_Naives = text_clf.predict(corpus_treinamento2)"
   ]
  },
  {
   "cell_type": "code",
   "execution_count": 82,
   "metadata": {},
   "outputs": [
    {
     "name": "stdout",
     "output_type": "stream",
     "text": [
      "Acurácia:  0.8022886204704387\n"
     ]
    }
   ],
   "source": [
    "from sklearn.metrics import accuracy_score\n",
    "\n",
    "# Podemos imprimir de maneira bem simples a acurácia, ao comparar o vetor de valores preditos e o vetor com os valores rotulados da base de dados\n",
    "print(\"Acurácia: \",accuracy_score(rotulos_preditos_Naives, rotulos_treinamento2))"
   ]
  },
  {
   "cell_type": "code",
   "execution_count": 83,
   "metadata": {},
   "outputs": [
    {
     "name": "stdout",
     "output_type": "stream",
     "text": [
      "              precision    recall  f1-score   support\n",
      "\n",
      "    negativo       0.76      1.00      0.86       912\n",
      "      neutro       0.95      0.72      0.82       490\n",
      "    positivo       0.00      0.00      0.00       171\n",
      "\n",
      "    accuracy                           0.80      1573\n",
      "   macro avg       0.57      0.57      0.56      1573\n",
      "weighted avg       0.73      0.80      0.75      1573\n",
      "\n"
     ]
    }
   ],
   "source": [
    "from sklearn.metrics import classification_report\n",
    "\n",
    "print(classification_report(rotulos_treinamento2, rotulos_preditos_Naives, zero_division=0))"
   ]
  },
  {
   "cell_type": "code",
   "execution_count": 84,
   "metadata": {},
   "outputs": [
    {
     "data": {
      "image/png": "[encoded data removed]",
      "text/plain": [
       "<Figure size 720x720 with 1 Axes>"
      ]
     },
     "metadata": {},
     "output_type": "display_data"
    }
   ],
   "source": [
    "#Gerando a matriz de confusão\n",
    "\n",
    "%matplotlib inline\n",
    "from sklearn.metrics import confusion_matrix\n",
    "import matplotlib.pyplot as plt\n",
    "import seaborn as sns; sns.set()\n",
    "\n",
    "# Podemos imprimir a matriz de confusão para tentar entender melhor os resultados\n",
    "mat = confusion_matrix(rotulos_treinamento2, rotulos_preditos_Naives)\n",
    "\n",
    "rotulos_nomes2 = ['negativo', 'neutro', 'positivo']\n",
    "\n",
    "fig, ax = plt.subplots(figsize=(10,10)) \n",
    "sns.heatmap(mat.T, square=True, annot=True, fmt='d', cbar=False, xticklabels=rotulos_nomes2, yticklabels=rotulos_nomes2)\n",
    "plt.xlabel('Categoria verdadeira')\n",
    "plt.ylabel('Categoria predita');"
   ]
  },
  {
   "cell_type": "markdown",
   "metadata": {},
   "source": [
    "A acurácia pela classificação Naives foi de 80%, já a do SVM variou de 97% sem stopwords e 95% com stopwords, por isso recomendamos a utilização da classificação pelo SVM"
   ]
  },
  {
   "cell_type": "code",
   "execution_count": 85,
   "metadata": {
    "colab": {
     "base_uri": "https://localhost:8080/",
     "height": 886
    },
    "id": "TmDJ2orVDM8C",
    "outputId": "535de1a8-352f-4e4d-b7ba-287000d71ed4"
   },
   "outputs": [
    {
     "name": "stdout",
     "output_type": "stream",
     "text": [
      "Collecting git+https://github.com/aboSamoor/polyglot.git@master\n",
      "  Cloning https://github.com/aboSamoor/polyglot.git (to revision master) to /tmp/pip-req-build-q9ykecon\n",
      "  Running command git clone -q https://github.com/aboSamoor/polyglot.git /tmp/pip-req-build-q9ykecon\n",
      "  Resolved https://github.com/aboSamoor/polyglot.git to commit 9b93b2ecbb9ba1f638c56b92665336e93230646a\n",
      "Requirement already satisfied: futures>=2.1.6 in /home/douglas/anaconda3/lib/python3.9/site-packages (from polyglot==16.7.4) (2.2.0)\n",
      "Requirement already satisfied: pycld2>=0.3 in /home/douglas/anaconda3/lib/python3.9/site-packages (from polyglot==16.7.4) (0.41)\n",
      "Requirement already satisfied: six>=1.7.3 in /home/douglas/anaconda3/lib/python3.9/site-packages (from polyglot==16.7.4) (1.16.0)\n",
      "Requirement already satisfied: wheel>=0.23.0 in /home/douglas/anaconda3/lib/python3.9/site-packages (from polyglot==16.7.4) (0.37.0)\n",
      "Requirement already satisfied: PyICU>=1.8 in /home/douglas/anaconda3/lib/python3.9/site-packages (from polyglot==16.7.4) (2.9)\n",
      "Requirement already satisfied: morfessor>=2.0.2a1 in /home/douglas/anaconda3/lib/python3.9/site-packages (from polyglot==16.7.4) (2.0.6)\n",
      "Requirement already satisfied: numpy>=1.6.1 in /home/douglas/anaconda3/lib/python3.9/site-packages (from polyglot==16.7.4) (1.20.3)\n"
     ]
    }
   ],
   "source": [
    "# Ela tem algumas dependências que devem ser instaladas\n",
    "!pip install -U git+https://github.com/aboSamoor/polyglot.git@master"
   ]
  },
  {
   "cell_type": "code",
   "execution_count": null,
   "metadata": {
    "colab": {
     "base_uri": "https://localhost:8080/"
    },
    "id": "JwKo3HzVJ1dS",
    "outputId": "149e8794-7055-448a-ed1d-eaad803efe9d"
   },
   "outputs": [
    {
     "name": "stdout",
     "output_type": "stream",
     "text": [
      "[polyglot_data] Downloading collection 'LANG:pt'\n",
      "[polyglot_data]    | \n",
      "[polyglot_data]    | Downloading package sgns2.pt to\n",
      "[polyglot_data]    |     /home/douglas/polyglot_data...\n",
      "[polyglot_data]    |   Package sgns2.pt is already up-to-date!\n",
      "[polyglot_data]    | Downloading package unipos.pt to\n",
      "[polyglot_data]    |     /home/douglas/polyglot_data...\n",
      "[polyglot_data]    | Downloading package ner2.pt to\n",
      "[polyglot_data]    |     /home/douglas/polyglot_data...\n",
      "[polyglot_data]    |   Package ner2.pt is already up-to-date!\n",
      "[polyglot_data]    | Downloading package counts2.pt to\n",
      "[polyglot_data]    |     /home/douglas/polyglot_data...\n",
      "[polyglot_data]    |   Package counts2.pt is already up-to-date!\n",
      "[polyglot_data]    | Downloading package transliteration2.pt to\n",
      "[polyglot_data]    |     /home/douglas/polyglot_data...\n",
      "[polyglot_data]    |   Package transliteration2.pt is already up-to-\n",
      "[polyglot_data]    |       date!\n",
      "[polyglot_data]    | Downloading package embeddings2.pt to\n",
      "[polyglot_data]    |     /home/douglas/polyglot_data...\n",
      "[polyglot_data]    |   Package embeddings2.pt is already up-to-date!\n",
      "[polyglot_data]    | Downloading package uniemb.pt to\n",
      "[polyglot_data]    |     /home/douglas/polyglot_data...\n"
     ]
    }
   ],
   "source": [
    "import polyglot\n",
    "from polyglot.text import Text\n",
    "# Baixa o léxicos da lingua portuguesa\n",
    "!polyglot download LANG:pt"
   ]
  },
  {
   "cell_type": "code",
   "execution_count": null,
   "metadata": {
    "colab": {
     "base_uri": "https://localhost:8080/"
    },
    "id": "wG5kUirJBsbf",
    "outputId": "dad829ae-c2d5-4e02-f2af-f321a6aa202c"
   },
   "outputs": [],
   "source": [
    "text = Text(\"O filme que vimos é realmente muito bom!\")\n",
    "print(\"{:<16}{}\".format(\"Word\", \"Polarity\")+\"\\n\"+\"-\"*30)\n",
    "for w in text.words:\n",
    "    print(\"{:<16}{:>2}\".format(w, w.polarity))"
   ]
  },
  {
   "cell_type": "code",
   "execution_count": null,
   "metadata": {
    "colab": {
     "base_uri": "https://localhost:8080/"
    },
    "id": "eQyjNvv6B0jl",
    "outputId": "19f6f7cb-a4e4-45f0-ddf8-5b88977de42f"
   },
   "outputs": [],
   "source": [
    "text = Text(\"As notas foram ruins.\")\n",
    "print(\"{:<16}{}\".format(\"Word\", \"Polarity\")+\"\\n\"+\"-\"*30)\n",
    "for w in text.words:\n",
    "    print(\"{:<16}{:>2}\".format(w, w.polarity))"
   ]
  },
  {
   "cell_type": "code",
   "execution_count": null,
   "metadata": {
    "colab": {
     "base_uri": "https://localhost:8080/"
    },
    "id": "uMmi9Pj5Bbx0",
    "outputId": "b0b4ba56-69fa-47d5-9341-d8eff280738c"
   },
   "outputs": [],
   "source": [
    "text = Text(\"Não sei o que pensar.\")\n",
    "print(\"{:<16}{}\".format(\"Word\", \"Polarity\")+\"\\n\"+\"-\"*30)\n",
    "for w in text.words:\n",
    "    print(\"{:<16}{:>2}\".format(w, w.polarity))"
   ]
  },
  {
   "cell_type": "markdown",
   "metadata": {
    "id": "Jr_-GSp4J1ko"
   },
   "source": [
    "### **Como obter dados em tempo real de redes sociais?**\n",
    "Já vimos na disciplina que é possível utilizar o web-scraping para obter páginas da web e percorrer a estrutura HTML em busca das informações. Porém, em alguns casos temos opções mais rápidas e viáveis para recolher dados. Alguns sites oferecem o serviço de [API](https://canaltech.com.br/software/o-que-e-api/) para acesso aos dados, onde podemos autenticar e utilizar funções para buscar dados em tempo real.\n",
    "\n",
    "Em nosso exemplo, utilizaremos a [API do Twitter](https://developer.twitter.com/en/docs) para buscar tweets sobre determinado assunto.\n",
    "\n",
    "Neste exemplo, utilizaremos as chaves de acesso da conta do professor, mas quando você for desenvolver seu script, você deve criar seu próprio token de acesso. Basta acessar sua conta no Twitter, na [página do desenvolvedor](https://developer.twitter.com/en/docs) você deve ir em Apps > Create an app.\n"
   ]
  },
  {
   "cell_type": "code",
   "execution_count": null,
   "metadata": {
    "id": "YoPjqKLVSVde"
   },
   "outputs": [],
   "source": [
    "import tweepy \n",
    "from tweepy import OAuthHandler \n",
    "\n",
    "# As chaves e tokens que você receberá ao criar um App\n",
    "consumer_key = \n",
    "consumer_secret = \n",
    "access_token = \n",
    "access_token_secret = \n",
    "\n",
    "api = None\n",
    "try: \n",
    "  # Cria um objeto de autenticação (OAuthHandler) \n",
    "  auth = OAuthHandler(consumer_key, consumer_secret) \n",
    "  # Define o token e senha de acesso\n",
    "  auth.set_access_token(access_token, access_token_secret) \n",
    "  # Cria um novo objeto API para acessar os tweets \n",
    "  api = tweepy.API(auth) \n",
    "except: \n",
    "  print(\"Erro: Falha de autenticação no Twitter\") "
   ]
  },
  {
   "cell_type": "markdown",
   "metadata": {
    "id": "EFAxuXHDWjk6"
   },
   "source": [
    "Uma vez que temos um objeto API autenticado, podemos fazer nossas buscas. A API oferecer vários métodos e parâmetros para buscar dados, basta olhar na [documentação da biblioteca tweepy](http://docs.tweepy.org/en/v3.5.0/api.html). Nós iremos utilizar o método **search()**, que funciona de maneira similar a própria caixa de busca no site do Twitter."
   ]
  },
  {
   "cell_type": "code",
   "execution_count": null,
   "metadata": {
    "id": "OtpCKyxjWiaH"
   },
   "outputs": [],
   "source": [
    "try: \n",
    "\n",
    "  # Busca até 200 tweets utilizando a query informada\n",
    "  tweets = api.search(q = 'Bolsonaro', count = 10) \n",
    "\n",
    "except tweepy.TweepError as e: \n",
    "  print(\"Erro : \" + str(e)) "
   ]
  },
  {
   "cell_type": "markdown",
   "metadata": {
    "id": "NlaLjQiVYnZ-"
   },
   "source": [
    "\n",
    "\n",
    "> **DICA**: Estamos colocando todos trechos do processo entre [blocos try/except](https://docs.python.org/pt-br/3.8/tutorial/errors.html), assim em caso de erro, temos certeza de qual ponto do processo está com problemas.\n",
    "\n"
   ]
  },
  {
   "cell_type": "markdown",
   "metadata": {
    "id": "yPltHhURbZwz"
   },
   "source": [
    "Vamos fazer uma função que através da pontuação de polaridade das palavras do tweet, obtido através do léxico do polyglot, calculamos a polaridade do texto. Utilizaremos uma fórmula bem simples, onde somaremos todas polaridades, se o resultado por positivo o sentimento é positivo, se for zero é neutro, caso menor que zero, negativo."
   ]
  },
  {
   "cell_type": "code",
   "execution_count": null,
   "metadata": {
    "colab": {
     "base_uri": "https://localhost:8080/",
     "height": 678
    },
    "id": "lFjtADEBZiaj",
    "outputId": "b688d4ea-32fa-444d-b985-34b2d3b6e44c"
   },
   "outputs": [],
   "source": [
    "qtdeTweetsPos = 0\n",
    "qtdeTweetsNeg = 0\n",
    "qtdeTweetsNeu = 0\n",
    "tweets_str_list = []\n",
    "\n",
    "# Percorre os tweets encontrados\n",
    "for tweet in tweets: \n",
    "\n",
    "  #ATENÇÃO: Tenha certeza que já instalou e importou o polyglot acima!\n",
    "  text = Text(tweet.text)\n",
    "\n",
    "  somaP = 0\n",
    "  \n",
    "  # Percorre as palavras do tweet\n",
    "  for palavra in text.words:\n",
    "    # Soma polaridade da palavra\n",
    "    somaP += palavra.polarity\n",
    "\n",
    "  # Faz contagem das polaridades\n",
    "  if somaP > 0:\n",
    "    qtdeTweetsPos += 1\n",
    "  elif somaP < 0:\n",
    "    qtdeTweetsNeg += 1\n",
    "  else:\n",
    "    qtdeTweetsNeu += 1\n",
    "                               \n",
    "  # Imprime o tweet\n",
    "  print(\"Polaridade: \" + str(somaP) + \" >>> \" + tweet.text + \"\\n\")\n",
    "\n",
    "  tweets_str_list.append(tweet.text)"
   ]
  },
  {
   "cell_type": "markdown",
   "metadata": {
    "id": "_lejXh3Cd8jc"
   },
   "source": [
    "> **ATENÇÃO:** As vezes, o polyglot pode identificar de maneira errada o idioma do tweet, e neste caso tentará utilizar um recurso léxico que ainda não foi baixado. Você pode corrigir de duas maneiras, ou usa o try/except e ignora este tweet, ou baixa o léxico dos idiomas envolvidos e deixa que ele calcule de maneira errada mesmo."
   ]
  },
  {
   "cell_type": "code",
   "execution_count": null,
   "metadata": {
    "id": "5zoi8re4ea6R"
   },
   "outputs": [],
   "source": [
    "# Você pode fazer download dos léxicos de sentimento de cada idioma separadamente\n",
    "!polyglot download sentiment2.en\n",
    "!polyglot download sentiment2.tr\n",
    "!polyglot download sentiment2.es"
   ]
  },
  {
   "cell_type": "code",
   "execution_count": null,
   "metadata": {
    "id": "_sJjSe_sfoQS"
   },
   "outputs": [],
   "source": [
    "# Agora calculamos as porcentagens\n",
    "print(\"POSITIVOS: {}%\".format(100*qtdeTweetsPos/len(tweets))) \n",
    "print(\"NEGATIVOS: {}%\".format(100*qtdeTweetsNeg/len(tweets))) \n",
    "print(\"NEUTROS: {}%\".format(100*qtdeTweetsNeu/len(tweets))) "
   ]
  },
  {
   "cell_type": "code",
   "execution_count": null,
   "metadata": {
    "id": "TYgKNCo5hAan"
   },
   "outputs": [],
   "source": [
    "import matplotlib.pyplot as plt\n",
    "\n",
    "# Podemos plotar um gráfico também\n",
    "fig=plt.figure(figsize=(6,6))\n",
    "plt.pie([qtdeTweetsPos, qtdeTweetsNeg, qtdeTweetsNeu],labels=['Positivo', 'Negativo', 'Neutro'],colors=['green', 'red', 'blue'])\n",
    "plt.ylabel('')\n",
    "plt.title('Polaridade',fontsize='18')\n",
    "plt.show()"
   ]
  },
  {
   "cell_type": "markdown",
   "metadata": {
    "id": "1-vK2fPsifmV"
   },
   "source": [
    "Poderíamos também construir uma WordCloud para entender melhor quais as palavras que estão mais associadas ao tema buscado.\n",
    "\n",
    "Para isso iremos remover as stop-words e chamar uma função de WordCloud."
   ]
  },
  {
   "cell_type": "code",
   "execution_count": null,
   "metadata": {
    "id": "9SWVSi1Ii0kh"
   },
   "outputs": [],
   "source": [
    "import nltk\n",
    "nltk.download('stopwords')\n",
    "import matplotlib.pyplot as plt\n",
    "from wordcloud import WordCloud\n",
    "\n",
    "stopword= nltk.corpus.stopwords.words('portuguese')\n",
    "\n",
    "# Retiramos ocorrências de links e retweets       \n",
    "stopword.append('https')\n",
    "stopword.append('RT')\n",
    "stopword.append('co')\n",
    "    \n",
    "# Cria uma única string com todos tweets\n",
    "str_tweets = \" \".join(tweets_str_list)\n",
    "    \n",
    "# Gera a wordcloud\n",
    "wordcloud = WordCloud(max_words=2000, max_font_size=90, stopwords=stopword, height=400, width=800).generate(str_tweets)\n",
    "\n",
    "fig = plt.figure(figsize=[20,10])\n",
    "plt.imshow(wordcloud, interpolation=\"bilinear\")\n",
    "plt.axis(\"off\")\n",
    "plt.title('WordCloud Twitter', fontsize='18')\n",
    "plt.show()                                                                                                                                   \n",
    "    "
   ]
  },
  {
   "cell_type": "markdown",
   "metadata": {
    "id": "3GCzR5LfaEh1"
   },
   "source": [
    "#### Considerações finais\n",
    "Aqui utilizamos uma abordagem BEM simples, baseada em um léxico de polaridade da biblioteca polyglot. Os textos provindos de redes sociais são muito difíceis de processar, o ideal seria uma abordagem mais complexa, de preferência com aprendizado supervisionado, capaz de lidar com algumas características e desafios destes textos:\n",
    "- Uso de gírias\n",
    "- Ausência de regras ortográficas\n",
    "- Uso de símbolos (emojis, hashtags)\n",
    "- Presença de ironia\n",
    "- Uso de hiperlinks\n",
    "- entre outros"
   ]
  }
 ],
 "metadata": {
  "colab": {
   "collapsed_sections": [],
   "name": "[ONLINE] Classificação de textos - Análise de Sentimentos.ipynb",
   "provenance": []
  },
  "kernelspec": {
   "display_name": "Python 3 (ipykernel)",
   "language": "python",
   "name": "python3"
  },
  "language_info": {
   "codemirror_mode": {
    "name": "ipython",
    "version": 3
   },
   "file_extension": ".py",
   "mimetype": "text/x-python",
   "name": "python",
   "nbconvert_exporter": "python",
   "pygments_lexer": "ipython3",
   "version": "3.9.7"
  }
 },
 "nbformat": 4,
 "nbformat_minor": 1
}
